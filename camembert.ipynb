{
 "cells": [
  {
   "cell_type": "code",
   "execution_count": 1,
   "id": "3ada2545",
   "metadata": {},
   "outputs": [],
   "source": [
    "# pip3 install torch torchvision\n",
    "# pip3 install transformers sentencepiece\n",
    "# https://huggingface.co/Jean-Baptiste/camembert-ner\n",
    "# https://huggingface.co/docs/transformers/quicktour\n",
    "import random\n",
    "import pandas as pd\n",
    "from transformers import pipeline\n",
    "from transformers import AutoTokenizer, AutoModelForTokenClassification\n",
    "\n",
    "## load online model and save to local with custom name\n",
    "'''\n",
    "tokenizer = AutoTokenizer.from_pretrained(\"Jean-Baptiste/camembert-ner\", use_fast=False)\n",
    "model = AutoModelForTokenClassification.from_pretrained(\"Jean-Baptiste/camembert-ner\")\n",
    "model.save_pretrained(\"model-camembert-ner\")\n",
    "tokenizer.save_pretrained(\"tokenizer-camembert-ner\")\n",
    "'''\n",
    "\n",
    "tokenizer = AutoTokenizer.from_pretrained(\"tokenizer-camembert-ner\", use_fast=False)\n",
    "model = AutoModelForTokenClassification.from_pretrained(\"model-camembert-ner\")\n",
    "\n",
    "nlp = pipeline('ner', model=model, tokenizer=tokenizer, aggregation_strategy=\"simple\")"
   ]
  },
  {
   "cell_type": "code",
   "execution_count": 2,
   "id": "55b68403",
   "metadata": {},
   "outputs": [],
   "source": [
    "path = \"data/data_set_final.csv\"\n",
    "df = pd.read_csv(path)"
   ]
  },
  {
   "cell_type": "code",
   "execution_count": 3,
   "id": "6220a170",
   "metadata": {},
   "outputs": [],
   "source": [
    "def get_entity(data):\n",
    "    n = len(data)\n",
    "    words = [ [] for _ in range(n)]\n",
    "    entities = [ [] for _ in range(n)]\n",
    "\n",
    "    for i in range(n):\n",
    "        for r in nlp(data[i]):\n",
    "            words[i].append(r['word'])\n",
    "            entities[i].append(r['entity_group'])\n",
    "    return words, entities"
   ]
  },
  {
   "cell_type": "code",
   "execution_count": 4,
   "id": "33760dc6",
   "metadata": {},
   "outputs": [],
   "source": [
    "def most_frequent(l):\n",
    "    if l: return max(l, key = l.count)\n",
    "    return 'MISC'"
   ]
  },
  {
   "cell_type": "code",
   "execution_count": 5,
   "id": "51e04a07",
   "metadata": {},
   "outputs": [],
   "source": [
    "def get(column):\n",
    "    res = pd.DataFrame()\n",
    "    res[column] = random.sample(df[column].tolist(), 2000)\n",
    "    words, entities = get_entity(res[column])\n",
    "    res[\"words\"] = words\n",
    "    res[\"entities\"] = entities\n",
    "    res[\"entity\"] = [most_frequent(e) for e in res[\"entities\"]]\n",
    "    return res"
   ]
  },
  {
   "cell_type": "code",
   "execution_count": 6,
   "id": "cda32c65",
   "metadata": {},
   "outputs": [
    {
     "name": "stdout",
     "output_type": "stream",
     "text": [
      "CPU times: user 1min 55s, sys: 2.47 s, total: 1min 58s\n",
      "Wall time: 2min 8s\n"
     ]
    },
    {
     "data": {
      "text/plain": [
       "LOC     1878\n",
       "PER       96\n",
       "MISC      25\n",
       "ORG        1\n",
       "Name: entity, dtype: int64"
      ]
     },
     "execution_count": 6,
     "metadata": {},
     "output_type": "execute_result"
    }
   ],
   "source": [
    "%%time\n",
    "# about 1min per 1000 lignes\n",
    "adresse = get(\"adresse\")\n",
    "adresse[\"entity\"].value_counts()"
   ]
  },
  {
   "cell_type": "code",
   "execution_count": 7,
   "id": "f520417f",
   "metadata": {},
   "outputs": [
    {
     "name": "stdout",
     "output_type": "stream",
     "text": [
      "CPU times: user 1min 44s, sys: 2.35 s, total: 1min 46s\n",
      "Wall time: 1min 54s\n"
     ]
    },
    {
     "data": {
      "text/plain": [
       "PER     1590\n",
       "MISC     195\n",
       "LOC      188\n",
       "ORG       27\n",
       "Name: entity, dtype: int64"
      ]
     },
     "execution_count": 7,
     "metadata": {},
     "output_type": "execute_result"
    }
   ],
   "source": [
    "%%time\n",
    "nom = get(\"nom\")\n",
    "nom[\"entity\"].value_counts()"
   ]
  },
  {
   "cell_type": "code",
   "execution_count": 8,
   "id": "ee22bab2",
   "metadata": {},
   "outputs": [
    {
     "name": "stdout",
     "output_type": "stream",
     "text": [
      "CPU times: user 1min 38s, sys: 1.75 s, total: 1min 40s\n",
      "Wall time: 1min 44s\n"
     ]
    },
    {
     "data": {
      "text/plain": [
       "PER     1588\n",
       "MISC     230\n",
       "LOC      156\n",
       "ORG       26\n",
       "Name: entity, dtype: int64"
      ]
     },
     "execution_count": 8,
     "metadata": {},
     "output_type": "execute_result"
    }
   ],
   "source": [
    "%%time\n",
    "prenom = get(\"prenom\")\n",
    "prenom[\"entity\"].value_counts()"
   ]
  },
  {
   "cell_type": "code",
   "execution_count": null,
   "id": "2e47f1fd",
   "metadata": {},
   "outputs": [],
   "source": []
  }
 ],
 "metadata": {
  "kernelspec": {
   "display_name": "Python 3",
   "language": "python",
   "name": "python3"
  },
  "language_info": {
   "codemirror_mode": {
    "name": "ipython",
    "version": 3
   },
   "file_extension": ".py",
   "mimetype": "text/x-python",
   "name": "python",
   "nbconvert_exporter": "python",
   "pygments_lexer": "ipython3",
   "version": "3.8.8"
  }
 },
 "nbformat": 4,
 "nbformat_minor": 5
}
